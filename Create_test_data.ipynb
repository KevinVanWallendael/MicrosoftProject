{
 "cells": [
  {
   "cell_type": "code",
   "execution_count": 9,
   "metadata": {},
   "outputs": [],
   "source": [
    "#!pip install newspaper3k"
   ]
  },
  {
   "cell_type": "code",
   "execution_count": 11,
   "metadata": {},
   "outputs": [],
   "source": [
    "import pandas as pd"
   ]
  },
  {
   "cell_type": "code",
   "execution_count": 37,
   "metadata": {},
   "outputs": [],
   "source": [
    "list_true = pd.DataFrame"
   ]
  },
  {
   "cell_type": "code",
   "execution_count": 52,
   "metadata": {},
   "outputs": [],
   "source": [
    "import newspaper\n",
    "from newspaper import Article\n",
    "\n",
    "lista = ['https://www.politico.com/news/2022/06/09/jan-6-committee-pre-planning-capitol-violence-00038500','https://www.politico.com/news/2022/06/09/fbi-navarro-called-arresting-agents-nazis-00038610']\n",
    "\n",
    "for i in lista:\n",
    "\n",
    "   first_article = Article(url=\"%s\" % i, language='en')\n",
    "\n",
    "   first_article.download()\n",
    "\n",
    "   first_article.parse()\n",
    "\n",
    "   list_true = first_article.text\n"
   ]
  },
  {
   "cell_type": "code",
   "execution_count": 54,
   "metadata": {},
   "outputs": [
    {
     "data": {
      "text/plain": [
       "'The government filing Thursday seems to mock Navarro’s priorities. It says FBI agents offered to contact an attorney for Navarro, but he wanted to use his phone to let a media outlet know he was likely to miss a scheduled TV interview.\\n\\nWhen Navarro was offered a chance to call an attorney, according to the FBI agents, the defendant noted that he was preparing to proceed without one.\\n\\n“SA Giardina asked, ‘do you have an attorney you’d like to call? What is the name of your attorney?’” the FBI report says.\\n\\nAccording to the report, Navarro replied: “I’m supposed to be on live television tonight. I’d like to call the producer and tell him I’m not going to be there. Can I have my phone?”\\n\\n“NAVARRO made statements to the effect that the arresting agents were ‘kind Nazis’ and ‘how could you live with yourselves?’” the report adds.\\n\\nWhile some of Navarro’s allies have claimed he was pulled off an airplane, the report says he was intercepted by the FBI in a jetway at the airport as he prepared to board an American Airlines commuter flight bound for Nashville.\\n\\nNavarro has also claimed that he was shackled after his arrest. The FBI report mentions handcuffs but no shackles, nor does it address any security practices he might have encountered after he was handed over to deputy U.S. marshals at the courthouse in Washington last Friday.\\n\\nThe Justice Department’s filing came a day after the department urged the judge in Navarro’s case, Amit Mehta, to quickly enter a “protective order” preventing Navarro from disseminating evidence provided to him by prosecutors. Navarro is due in court to be arraigned on the charges on June 17, but he has requested a 45-day delay — citing his effort to retain an attorney and to litigate a civil lawsuit against the department and the Jan. 6 select committee. The department said there was no legal basis to delay speedy-trial obligations to accommodate a civil lawsuit.\\n\\nThe department is urging Mehta to reject this request, noting that Navarro still has a week to obtain counsel and that his request for a delay would be disruptive to the case.\\n\\nThe FBI’s summary of Navarro’s arrest provides more details about the manner in which he was taken into custody. Navarro, who was accompanied by an unidentified individual, was in the jetway when he was taken into custody at 11:14 a.m., according to the agents. After he was led down the jetway steps, he was handcuffed and his wallet, cellphone and pen were taken and put in a manila envelope, the report indicates.\\n\\nNavarro was taken to the FBI’s Washington Field Office for processing, including fingerprinting and a DNA sample, the report says.\\n\\nAfter Navarro complained that his handcuffs were causing shoulder pain, they were replaced with a second set and loosened, which the agents said relieved Navarro’s discomfort. He initially rejected an offer of food, according to the summary, but asked for some at 12:08 p.m. and was given chocolate, nuts and dried fruit. He was later asked whether he wanted anything else to eat and declined, the report says.'"
      ]
     },
     "execution_count": 54,
     "metadata": {},
     "output_type": "execute_result"
    }
   ],
   "source": [
    "list_true"
   ]
  },
  {
   "cell_type": "code",
   "execution_count": 27,
   "metadata": {},
   "outputs": [
    {
     "ename": "ValueError",
     "evalue": "DataFrame constructor not properly called!",
     "output_type": "error",
     "traceback": [
      "\u001b[1;31m---------------------------------------------------------------------------\u001b[0m",
      "\u001b[1;31mValueError\u001b[0m                                Traceback (most recent call last)",
      "\u001b[1;32m~\\AppData\\Local\\Temp/ipykernel_12080/3894507723.py\u001b[0m in \u001b[0;36m<module>\u001b[1;34m\u001b[0m\n\u001b[1;32m----> 1\u001b[1;33m \u001b[0mdf\u001b[0m \u001b[1;33m=\u001b[0m \u001b[0mpd\u001b[0m\u001b[1;33m.\u001b[0m\u001b[0mDataFrame\u001b[0m\u001b[1;33m(\u001b[0m\u001b[0mlist_true\u001b[0m\u001b[1;33m)\u001b[0m\u001b[1;33m\u001b[0m\u001b[1;33m\u001b[0m\u001b[0m\n\u001b[0m\u001b[0;32m      2\u001b[0m \u001b[0mprint\u001b[0m\u001b[1;33m(\u001b[0m\u001b[0mdf\u001b[0m\u001b[1;33m)\u001b[0m\u001b[1;33m\u001b[0m\u001b[1;33m\u001b[0m\u001b[0m\n",
      "\u001b[1;32mc:\\Users\\kefke\\anaconda3\\lib\\site-packages\\pandas\\core\\frame.py\u001b[0m in \u001b[0;36m__init__\u001b[1;34m(self, data, index, columns, dtype, copy)\u001b[0m\n\u001b[0;32m    728\u001b[0m         \u001b[1;32melse\u001b[0m\u001b[1;33m:\u001b[0m\u001b[1;33m\u001b[0m\u001b[1;33m\u001b[0m\u001b[0m\n\u001b[0;32m    729\u001b[0m             \u001b[1;32mif\u001b[0m \u001b[0mindex\u001b[0m \u001b[1;32mis\u001b[0m \u001b[1;32mNone\u001b[0m \u001b[1;32mor\u001b[0m \u001b[0mcolumns\u001b[0m \u001b[1;32mis\u001b[0m \u001b[1;32mNone\u001b[0m\u001b[1;33m:\u001b[0m\u001b[1;33m\u001b[0m\u001b[1;33m\u001b[0m\u001b[0m\n\u001b[1;32m--> 730\u001b[1;33m                 \u001b[1;32mraise\u001b[0m \u001b[0mValueError\u001b[0m\u001b[1;33m(\u001b[0m\u001b[1;34m\"DataFrame constructor not properly called!\"\u001b[0m\u001b[1;33m)\u001b[0m\u001b[1;33m\u001b[0m\u001b[1;33m\u001b[0m\u001b[0m\n\u001b[0m\u001b[0;32m    731\u001b[0m \u001b[1;33m\u001b[0m\u001b[0m\n\u001b[0;32m    732\u001b[0m             \u001b[1;31m# Argument 1 to \"ensure_index\" has incompatible type \"Collection[Any]\";\u001b[0m\u001b[1;33m\u001b[0m\u001b[1;33m\u001b[0m\u001b[0m\n",
      "\u001b[1;31mValueError\u001b[0m: DataFrame constructor not properly called!"
     ]
    }
   ],
   "source": [
    "df = pd.DataFrame(list_true)\n",
    "print(df)"
   ]
  },
  {
   "cell_type": "code",
   "execution_count": null,
   "metadata": {},
   "outputs": [],
   "source": []
  }
 ],
 "metadata": {
  "interpreter": {
   "hash": "010b7a9344c5b8b50c8c5ce23463162d5dc963233980e0c82fef8043b93a03d1"
  },
  "kernelspec": {
   "display_name": "Python 3.9.7 ('base')",
   "language": "python",
   "name": "python3"
  },
  "language_info": {
   "codemirror_mode": {
    "name": "ipython",
    "version": 3
   },
   "file_extension": ".py",
   "mimetype": "text/x-python",
   "name": "python",
   "nbconvert_exporter": "python",
   "pygments_lexer": "ipython3",
   "version": "3.9.7"
  },
  "orig_nbformat": 4
 },
 "nbformat": 4,
 "nbformat_minor": 2
}
